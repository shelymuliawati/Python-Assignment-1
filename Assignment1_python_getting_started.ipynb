{
 "cells": [
  {
   "cell_type": "markdown",
   "metadata": {
    "colab_type": "text",
    "id": "view-in-github"
   },
   "source": [
    "<a href=\"https://colab.research.google.com/github/anshupandey/techtrunk_training/blob/master/Assignment1_python_getting_started_basics.ipynb\" target=\"_parent\"><img src=\"https://colab.research.google.com/assets/colab-badge.svg\" alt=\"Open In Colab\"/></a>"
   ]
  },
  {
   "cell_type": "markdown",
   "metadata": {
    "colab_type": "text",
    "id": "f1TWTGqob4vF",
    "tags": [
     "Python",
     "Assignments",
     "Practice",
     "course",
     "python"
    ]
   },
   "source": [
    " # Getting Started with Python Basics"
   ]
  },
  {
   "cell_type": "markdown",
   "metadata": {
    "colab_type": "text",
    "id": "whK_2Ayvb4vI",
    "tags": [
     "reverese_number",
     "python_excercise",
     "code",
     "python"
    ]
   },
   "source": [
    "### Excercise 1\n",
    "\n",
    "<b><p> Write code to generate the fibiniocci series.</b>\n",
    "    <br> \n",
    "  Create a function fib(length) which generates fibiniocci series of a specific lenght.  For example \n",
    "    <li> fib(5) will return [0,1,1,2,3]\n",
    "    <li> fib(8) will return [0,1,1,2,3,5,8,13]\n",
    "    <li> fib(10) will return [0,1,1,2,3,5,8,13,21,34]\n",
    "      <br>you can use [0,1] as known initial values  "
   ]
  },
  {
   "cell_type": "code",
   "execution_count": 1,
   "metadata": {
    "colab": {},
    "colab_type": "code",
    "id": "dWx0iwNAb4vJ"
   },
   "outputs": [],
   "source": [
    "def fib(length):\n",
    "    # you code goes here --\n",
    "    \n",
    "    \n",
    "    \n",
    "    \n",
    "    return out"
   ]
  },
  {
   "cell_type": "code",
   "execution_count": 6,
   "metadata": {
    "scrolled": true
   },
   "outputs": [
    {
     "data": {
      "text/plain": [
       "[0, 1, 1, 2, 3, 5, 8, 13, 21, 34]"
      ]
     },
     "execution_count": 6,
     "metadata": {},
     "output_type": "execute_result"
    }
   ],
   "source": [
    "fib(10)"
   ]
  },
  {
   "cell_type": "markdown",
   "metadata": {
    "colab_type": "text",
    "id": "W8WYSjV3b4vS",
    "tags": [
     "python",
     "excercise"
    ]
   },
   "source": [
    "### Excercise 2\n",
    "\n",
    "<b><p> Write a program tp generate password of length 8 which should have a minimum number and one minimum upper case character. The password should be randomly generated </b>\n",
    " \n",
    "Hints: you can use pacakge string >> <br>\n",
    "<code> import string</code><br>\n",
    "<code> string.ascii_lowercase</code><br>\n",
    "<code>string.ascii_uppercase</code>\n"
   ]
  },
  {
   "cell_type": "code",
   "execution_count": 2,
   "metadata": {
    "colab": {},
    "colab_type": "code",
    "id": "8ngdJGK3b4vU"
   },
   "outputs": [],
   "source": [
    "def getPassword(length):\n",
    "    \n",
    "    \n",
    "    \n",
    "    \n",
    "    \n",
    "    return password"
   ]
  },
  {
   "cell_type": "code",
   "execution_count": 39,
   "metadata": {
    "colab": {},
    "colab_type": "code",
    "id": "YgE1DnDDb4vl"
   },
   "outputs": [
    {
     "data": {
      "text/plain": [
       "'L8rrmwUlAs'"
      ]
     },
     "execution_count": 39,
     "metadata": {},
     "output_type": "execute_result"
    }
   ],
   "source": [
    "# Your solution goes here.\n",
    "getPassword(10)"
   ]
  }
 ],
 "metadata": {
  "colab": {
   "include_colab_link": true,
   "name": "Assignment1_python_getting_started.ipynb",
   "provenance": [],
   "version": "0.3.2"
  },
  "kernelspec": {
   "display_name": "Python 3",
   "language": "python",
   "name": "python3"
  },
  "language_info": {
   "codemirror_mode": {
    "name": "ipython",
    "version": 3
   },
   "file_extension": ".py",
   "mimetype": "text/x-python",
   "name": "python",
   "nbconvert_exporter": "python",
   "pygments_lexer": "ipython3",
   "version": "3.7.4"
  }
 },
 "nbformat": 4,
 "nbformat_minor": 1
}
